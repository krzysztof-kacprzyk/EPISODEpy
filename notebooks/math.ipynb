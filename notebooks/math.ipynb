{
 "cells": [
  {
   "cell_type": "code",
   "execution_count": 1,
   "id": "933f17d5",
   "metadata": {},
   "outputs": [],
   "source": [
    "import sympy as sp"
   ]
  },
  {
   "cell_type": "code",
   "execution_count": 16,
   "id": "53d9f7d3",
   "metadata": {},
   "outputs": [],
   "source": [
    "x, y, a, t, i, b = sp.symbols('x y a t, i, b')"
   ]
  },
  {
   "cell_type": "code",
   "execution_count": 17,
   "id": "95bdb84f",
   "metadata": {},
   "outputs": [],
   "source": [
    "z = (t*y)/(x+y)"
   ]
  },
  {
   "cell_type": "code",
   "execution_count": 18,
   "id": "beb6a1c1",
   "metadata": {},
   "outputs": [],
   "source": [
    "l1 = x/z * i + a + x\n",
    "l2 = (y/(t-z)) * (i - z) + a"
   ]
  },
  {
   "cell_type": "code",
   "execution_count": 19,
   "id": "dd3baa2c",
   "metadata": {},
   "outputs": [],
   "source": [
    "para1 = sp.integrate(l1, i)\n",
    "para2 = sp.integrate(l2, i)\n",
    "\n",
    "# The constant for para1 is b\n",
    "para1 = para1 + b\n",
    "# For para2 we enforce continuity at z\n",
    "C = para1.subs(i, z) - para2.subs(i, z)\n",
    "para2 = para2 + C\n"
   ]
  },
  {
   "cell_type": "code",
   "execution_count": 20,
   "id": "b160a49b",
   "metadata": {},
   "outputs": [],
   "source": [
    "cubic1 = sp.integrate(para1, i)\n",
    "cubic2 = sp.integrate(para2, i)"
   ]
  },
  {
   "cell_type": "code",
   "execution_count": 28,
   "id": "5c7c4cfa",
   "metadata": {},
   "outputs": [],
   "source": [
    "expr = cubic1.subs(i, z) - cubic1.subs(i,0) + cubic2.subs(i,t) - cubic2.subs(i, z) - (b-t*a)*t - 1/2 * a * t**2"
   ]
  },
  {
   "cell_type": "code",
   "execution_count": 29,
   "id": "80bf259a",
   "metadata": {},
   "outputs": [],
   "source": [
    "expr = expr.simplify()"
   ]
  },
  {
   "cell_type": "code",
   "execution_count": 66,
   "id": "67145527",
   "metadata": {},
   "outputs": [
    {
     "data": {
      "text/latex": [
       "$\\displaystyle \\frac{t^{2} \\left(6.0 a x^{2} + 12.0 a x y + 6.0 a y^{2} + 10.0 x^{2} y + 4.0 x y^{2}\\right)}{6.0 x^{2} + 12.0 x y + 6.0 y^{2}}$"
      ],
      "text/plain": [
       "t**2*(6.0*a*x**2 + 12.0*a*x*y + 6.0*a*y**2 + 10.0*x**2*y + 4.0*x*y**2)/(6.0*x**2 + 12.0*x*y + 6.0*y**2)"
      ]
     },
     "execution_count": 66,
     "metadata": {},
     "output_type": "execute_result"
    }
   ],
   "source": [
    "expr"
   ]
  },
  {
   "cell_type": "code",
   "execution_count": 70,
   "id": "5bf1b7b2",
   "metadata": {},
   "outputs": [],
   "source": [
    "sols = sp.solve(expr, x)"
   ]
  },
  {
   "cell_type": "code",
   "execution_count": 71,
   "id": "8727f8b8",
   "metadata": {},
   "outputs": [
    {
     "data": {
      "text/plain": [
       "[(-y*(3.0*a + y) - sqrt(-y**3*(9.0*a - y)))/(3.0*a + 5.0*y),\n",
       " (-y*(3.0*a + y) + sqrt(-y**3*(9.0*a - y)))/(3.0*a + 5.0*y)]"
      ]
     },
     "execution_count": 71,
     "metadata": {},
     "output_type": "execute_result"
    }
   ],
   "source": [
    "sols"
   ]
  },
  {
   "cell_type": "code",
   "execution_count": 75,
   "id": "fecb5534",
   "metadata": {},
   "outputs": [],
   "source": [
    "eq1 = z.subs(x, sols[1]).simplify()/t"
   ]
  },
  {
   "cell_type": "code",
   "execution_count": 84,
   "id": "6e0420bb",
   "metadata": {},
   "outputs": [],
   "source": [
    "num, den = eq1.as_numer_denom()"
   ]
  },
  {
   "cell_type": "code",
   "execution_count": 85,
   "id": "fb63b4fa",
   "metadata": {},
   "outputs": [
    {
     "data": {
      "text/latex": [
       "$\\displaystyle \\frac{y \\left(3.0 a + 5.0 y\\right)}{4.0 y^{2} + 1.0 \\sqrt{y^{3} \\left(- 9.0 a + y\\right)}}$"
      ],
      "text/plain": [
       "y*(3.0*a + 5.0*y)/(4.0*y**2 + 1.0*sqrt(y**3*(-9.0*a + y)))"
      ]
     },
     "execution_count": 85,
     "metadata": {},
     "output_type": "execute_result"
    }
   ],
   "source": [
    "eq1"
   ]
  },
  {
   "cell_type": "code",
   "execution_count": 86,
   "id": "f7db9157",
   "metadata": {},
   "outputs": [
    {
     "data": {
      "text/latex": [
       "$\\displaystyle y \\left(3.0 a + 5.0 y\\right)$"
      ],
      "text/plain": [
       "y*(3.0*a + 5.0*y)"
      ]
     },
     "execution_count": 86,
     "metadata": {},
     "output_type": "execute_result"
    }
   ],
   "source": [
    "num"
   ]
  },
  {
   "cell_type": "code",
   "execution_count": 87,
   "id": "ccf1482e",
   "metadata": {},
   "outputs": [
    {
     "data": {
      "text/latex": [
       "$\\displaystyle 4.0 y^{2} + 1.0 \\sqrt{y^{3} \\left(- 9.0 a + y\\right)}$"
      ],
      "text/plain": [
       "4.0*y**2 + 1.0*sqrt(y**3*(-9.0*a + y))"
      ]
     },
     "execution_count": 87,
     "metadata": {},
     "output_type": "execute_result"
    }
   ],
   "source": [
    "den"
   ]
  },
  {
   "cell_type": "code",
   "execution_count": 90,
   "id": "db1069a1",
   "metadata": {},
   "outputs": [
    {
     "data": {
      "text/latex": [
       "$\\displaystyle - 3.0 a y - 1.0 y^{2} + 1.0 \\sqrt{- y^{3} \\left(9.0 a - y\\right)}$"
      ],
      "text/plain": [
       "-3.0*a*y - 1.0*y**2 + 1.0*sqrt(-y**3*(9.0*a - y))"
      ]
     },
     "execution_count": 90,
     "metadata": {},
     "output_type": "execute_result"
    }
   ],
   "source": [
    "(den - num).simplify()"
   ]
  },
  {
   "cell_type": "code",
   "execution_count": null,
   "id": "d792753c",
   "metadata": {},
   "outputs": [],
   "source": [
    "# This is between 0 and 1 if\n",
    "# a > 0 and y > 0 and y >= 9a and sqrt(-y**3 (9a-y)) > 3ay+y**2\n",
    "# that implies y**4 + 9ay**3 > 9a**2 y**2 + 6ay**3 + y**4\n",
    "# which implies 3ay**3 > 9a**2 y**2 \n",
    "# which for y !=  and a != 0 implies y > 3a\n",
    "\n"
   ]
  },
  {
   "cell_type": "code",
   "execution_count": 65,
   "id": "6bf3ec79",
   "metadata": {},
   "outputs": [
    {
     "data": {
      "text/latex": [
       "$\\displaystyle \\frac{3.0 a + \\sqrt{9.0 a + 1} - 1}{3.0 a - 5.0}$"
      ],
      "text/plain": [
       "(3.0*a + sqrt(9.0*a + 1) - 1)/(3.0*a - 5.0)"
      ]
     },
     "execution_count": 65,
     "metadata": {},
     "output_type": "execute_result"
    }
   ],
   "source": [
    "sols[1].subs(y,-1)"
   ]
  },
  {
   "cell_type": "code",
   "execution_count": 52,
   "id": "40b5065d",
   "metadata": {},
   "outputs": [
    {
     "data": {
      "text/latex": [
       "$\\displaystyle -2.25$"
      ],
      "text/plain": [
       "-2.25000000000000"
      ]
     },
     "execution_count": 52,
     "metadata": {},
     "output_type": "execute_result"
    }
   ],
   "source": [
    "sols[0].subs(a,1).subs(y,9)"
   ]
  },
  {
   "cell_type": "code",
   "execution_count": 61,
   "id": "170c1f25",
   "metadata": {},
   "outputs": [
    {
     "data": {
      "text/latex": [
       "$\\displaystyle 0.666666666666667 t$"
      ],
      "text/plain": [
       "0.666666666666667*t"
      ]
     },
     "execution_count": 61,
     "metadata": {},
     "output_type": "execute_result"
    }
   ],
   "source": [
    "z.subs(x,-1.5).subs(y,-3)"
   ]
  },
  {
   "cell_type": "code",
   "execution_count": null,
   "id": "c83fdb50",
   "metadata": {},
   "outputs": [],
   "source": []
  }
 ],
 "metadata": {
  "kernelspec": {
   "display_name": "EPISODEpy",
   "language": "python",
   "name": "python3"
  },
  "language_info": {
   "codemirror_mode": {
    "name": "ipython",
    "version": 3
   },
   "file_extension": ".py",
   "mimetype": "text/x-python",
   "name": "python",
   "nbconvert_exporter": "python",
   "pygments_lexer": "ipython3",
   "version": "3.12.2"
  }
 },
 "nbformat": 4,
 "nbformat_minor": 5
}
