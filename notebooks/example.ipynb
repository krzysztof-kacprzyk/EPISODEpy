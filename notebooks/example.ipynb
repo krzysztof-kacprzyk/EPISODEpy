{
 "cells": [
  {
   "cell_type": "code",
   "execution_count": null,
   "id": "7463f40d",
   "metadata": {},
   "outputs": [],
   "source": [
    "from scipy.integrate import odeint\n",
    "import numpy as np\n",
    "import pandas as pd\n",
    "from episode.dataset import FeatureTransformer\n",
    "from episode.episode import EPISODE\n",
    "from episode.basis import BSplineBasisFunctions\n",
    "from episode.semantic_representation import Composition\n",
    "from episode.config import PropertyMapConfig, DecisionTreeConfig\n",
    "from episode.composition_map import DecisionTreeCompositionMap\n",
    "from episode.property_map import PropertyMap\n",
    "from episode.semantic_predictor import SemanticPredictor\n",
    "from episode.trajectory_predictor import C0TrajectoryPredictor\n",
    "import matplotlib.pyplot as plt"
   ]
  },
  {
   "cell_type": "code",
   "execution_count": 2,
   "id": "2424fb7b",
   "metadata": {},
   "outputs": [],
   "source": [
    "def get_SIR_dataset(n_samples=100, n_measurements=20, noise_std=0.1, normalize_time=True, seed=0):\n",
    "\n",
    "    # SIR model differential equations.\n",
    "    def sir_model(y, t, beta, gamma):\n",
    "        S, I, R = y\n",
    "        dSdt = -beta * S * I\n",
    "        dIdt = beta * S * I - gamma * I\n",
    "        dRdt = gamma * I\n",
    "        return dSdt, dIdt, dRdt\n",
    "\n",
    "    def predict_sir_trajectories(S0, I0, R0, beta, gamma, timepoints):\n",
    "        # Initial number of infected and recovered individuals, everyone else is susceptible to infection initially.\n",
    "        y0 = S0, I0, R0\n",
    "        # A grid of time points (in days)\n",
    "        # Integrate the SIR equations over the time grid, t.\n",
    "        ret = odeint(sir_model, y0, timepoints, args=(beta, gamma))\n",
    "        return ret\n",
    "    \n",
    "    beta = 0.3\n",
    "    gamma = 0.1\n",
    "    timepoints = np.linspace(0,100,n_measurements)\n",
    "\n",
    "    S0_range = (0.6,1.0)\n",
    "    I0_range = (0.01,0.1)\n",
    "    R0_range = (0.0,1.0)\n",
    "\n",
    "    # Create a dataset of initial conditions\n",
    "    gen = np.random.default_rng(seed=seed)\n",
    "\n",
    "    S0 = gen.uniform(S0_range[0], S0_range[1], n_samples)\n",
    "    I0 = gen.uniform(I0_range[0], I0_range[1], n_samples)\n",
    "    R0 = gen.uniform(R0_range[0], R0_range[1], n_samples)\n",
    "\n",
    "    # Predict the trajectories\n",
    "    ys = []\n",
    "    for i in range(n_samples):\n",
    "        y = predict_sir_trajectories(S0[i], I0[i], R0[i], beta, gamma, timepoints)\n",
    "        # add noise\n",
    "        y += gen.normal(0, noise_std, y.shape)\n",
    "        ys.append(y)\n",
    "\n",
    "    Y = np.stack(ys, axis=0)\n",
    "\n",
    "    T = np.tile(timepoints, (n_samples,1))\n",
    "\n",
    "    if normalize_time:\n",
    "        T = T/100\n",
    "\n",
    "    V = pd.DataFrame(np.stack([S0,I0,R0], axis=1))\n",
    "    V.columns = ['S0', 'I0', 'R0']\n",
    "\n",
    "    x0_dict = {0:0,1:1,2:2}\n",
    "\n",
    "    t_range = (0,1)\n",
    "\n",
    "    return V, T, Y, x0_dict, t_range"
   ]
  },
  {
   "cell_type": "code",
   "execution_count": 3,
   "id": "a85181ec",
   "metadata": {},
   "outputs": [],
   "source": [
    "V, T, Y, x0_dict, t_range = get_SIR_dataset(n_samples=50, n_measurements=10, noise_std=0.01, normalize_time=True, seed=0)"
   ]
  },
  {
   "cell_type": "code",
   "execution_count": 4,
   "id": "608faefd",
   "metadata": {},
   "outputs": [],
   "source": [
    "feature_transformer = FeatureTransformer()\n",
    "V = feature_transformer.fit_transform_df(V)"
   ]
  },
  {
   "cell_type": "code",
   "execution_count": 5,
   "id": "78359b43",
   "metadata": {},
   "outputs": [],
   "source": [
    "basis_functions = BSplineBasisFunctions(n_basis=6,k=3,include_bias=False, include_linear=True)\n",
    "# composition_libraries = [Composition.create_full_composition_library(max_length=2, is_infinite=True, simplified=True) for _ in range(3)]\n",
    "\n",
    "composition_library = [Composition(('--b','-+h',))]\n"
   ]
  },
  {
   "cell_type": "code",
   "execution_count": 6,
   "id": "e9737369",
   "metadata": {},
   "outputs": [
    {
     "name": "stderr",
     "output_type": "stream",
     "text": [
      "100%|██████████| 50/50 [00:08<00:00,  5.65it/s]\n"
     ]
    }
   ],
   "source": [
    "# Fit just one dimension\n",
    "\n",
    "Y0 = Y[:,:,0]\n",
    "\n",
    "dt_config = DecisionTreeConfig()\n",
    "\n",
    "composition_map = DecisionTreeCompositionMap(\n",
    "    composition_library=composition_library,\n",
    "    t_range=t_range,\n",
    "    x0_index=x0_dict[0],\n",
    "    dt_config=dt_config,\n",
    "    seed=0,\n",
    "    verbose=True\n",
    ")\n",
    "composition_map.fit(V, T, Y0)\n"
   ]
  },
  {
   "cell_type": "code",
   "execution_count": 7,
   "id": "ef255d5e",
   "metadata": {},
   "outputs": [],
   "source": [
    "property_map_config = PropertyMapConfig(\n",
    "    n_epochs=100,\n",
    "    n_tune=10\n",
    ")\n",
    "property_map = PropertyMap(\n",
    "    basis_functions=basis_functions,\n",
    "    x0_index=x0_dict[0],\n",
    "    t_range=t_range,\n",
    "    config=property_map_config,\n",
    "    seed=0,\n",
    "    verbose=True\n",
    ")\n",
    "semantic_predictor = SemanticPredictor(\n",
    "    composition_map=composition_map,\n",
    "    property_map=property_map\n",
    ")\n",
    "trajectory_predictor = C0TrajectoryPredictor()\n",
    "episode = EPISODE(\n",
    "    semantic_predictor=semantic_predictor,\n",
    "    trajectory_predictor=trajectory_predictor,\n",
    ")"
   ]
  },
  {
   "cell_type": "code",
   "execution_count": 8,
   "id": "2b987650",
   "metadata": {},
   "outputs": [
    {
     "name": "stderr",
     "output_type": "stream",
     "text": [
      "[I 2025-08-21 19:19:08,025] A new study created in memory with name: no-name-5b391611-cf0b-4b80-8540-2b76ce8bdbbb\n",
      "Seed set to 0\n",
      "GPU available: True (cuda), used: False\n",
      "TPU available: False, using: 0 TPU cores\n",
      "HPU available: False, using: 0 HPUs\n",
      "c:\\Users\\krkac\\Miniconda3\\envs\\EPISODEpy\\Lib\\site-packages\\lightning\\pytorch\\trainer\\setup.py:177: GPU available but not used. You can set it by doing `Trainer(accelerator='gpu')`.\n",
      "c:\\Users\\krkac\\Miniconda3\\envs\\EPISODEpy\\Lib\\site-packages\\lightning\\pytorch\\trainer\\connectors\\data_connector.py:433: The 'val_dataloader' does not have many workers which may be a bottleneck. Consider increasing the value of the `num_workers` argument` to `num_workers=19` in the `DataLoader` to improve performance.\n",
      "c:\\Users\\krkac\\Miniconda3\\envs\\EPISODEpy\\Lib\\site-packages\\lightning\\pytorch\\trainer\\connectors\\data_connector.py:433: The 'train_dataloader' does not have many workers which may be a bottleneck. Consider increasing the value of the `num_workers` argument` to `num_workers=19` in the `DataLoader` to improve performance.\n",
      "[I 2025-08-21 19:19:16,988] Trial 0 finished with value: 0.0259876511991024 and parameters: {'dis_loss_coeff_2': 2.4575820789209983e-05, 'lr': 0.07257005721594278, 'last_loss_coeff': 4.135997393839888}. Best is trial 0 with value: 0.0259876511991024.\n",
      "Seed set to 0\n"
     ]
    },
    {
     "name": "stdout",
     "output_type": "stream",
     "text": [
      "Finished after 50 epochs\n"
     ]
    },
    {
     "name": "stderr",
     "output_type": "stream",
     "text": [
      "c:\\Users\\krkac\\Miniconda3\\envs\\EPISODEpy\\Lib\\site-packages\\lightning\\pytorch\\trainer\\setup.py:177: GPU available but not used. You can set it by doing `Trainer(accelerator='gpu')`.\n",
      "[I 2025-08-21 19:19:34,209] Trial 1 finished with value: 0.0028442060574889183 and parameters: {'dis_loss_coeff_2': 2.2859433522173908e-05, 'lr': 0.004950159553733192, 'last_loss_coeff': 7.505241622349544}. Best is trial 1 with value: 0.0028442060574889183.\n",
      "Seed set to 0\n"
     ]
    },
    {
     "name": "stdout",
     "output_type": "stream",
     "text": [
      "Finished after 50 epochs\n"
     ]
    },
    {
     "name": "stderr",
     "output_type": "stream",
     "text": [
      "[I 2025-08-21 19:19:40,816] Trial 2 finished with value: 0.11322823911905289 and parameters: {'dis_loss_coeff_2': 3.1673619130322658e-06, 'lr': 0.36905577292137587, 'last_loss_coeff': 605.3082080079017}. Best is trial 1 with value: 0.0028442060574889183.\n",
      "Seed set to 0\n"
     ]
    },
    {
     "name": "stdout",
     "output_type": "stream",
     "text": [
      "Finished after 50 epochs\n"
     ]
    },
    {
     "name": "stderr",
     "output_type": "stream",
     "text": [
      "[I 2025-08-21 19:19:57,481] Trial 3 finished with value: 0.02382059022784233 and parameters: {'dis_loss_coeff_2': 1.1682402109066343e-06, 'lr': 0.1468588598920085, 'last_loss_coeff': 1.490628836610164}. Best is trial 1 with value: 0.0028442060574889183.\n",
      "Seed set to 0\n"
     ]
    },
    {
     "name": "stdout",
     "output_type": "stream",
     "text": [
      "Finished after 50 epochs\n"
     ]
    },
    {
     "name": "stderr",
     "output_type": "stream",
     "text": [
      "[I 2025-08-21 19:20:09,928] Trial 4 finished with value: 0.00047855134471319616 and parameters: {'dis_loss_coeff_2': 3.502325359353022e-05, 'lr': 0.503948959867121, 'last_loss_coeff': 0.002668187524237051}. Best is trial 4 with value: 0.00047855134471319616.\n",
      "Seed set to 0\n"
     ]
    },
    {
     "name": "stdout",
     "output_type": "stream",
     "text": [
      "Finished after 50 epochs\n"
     ]
    },
    {
     "name": "stderr",
     "output_type": "stream",
     "text": [
      "[I 2025-08-21 19:20:16,598] Trial 5 finished with value: 0.0502152219414711 and parameters: {'dis_loss_coeff_2': 4.977765090242326e-09, 'lr': 0.00012046852412030328, 'last_loss_coeff': 99.01912249089663}. Best is trial 4 with value: 0.00047855134471319616.\n",
      "Seed set to 0\n"
     ]
    },
    {
     "name": "stdout",
     "output_type": "stream",
     "text": [
      "Finished after 50 epochs\n"
     ]
    },
    {
     "name": "stderr",
     "output_type": "stream",
     "text": [
      "[I 2025-08-21 19:20:24,559] Trial 6 finished with value: 0.08819247782230377 and parameters: {'dis_loss_coeff_2': 0.0016797861943261016, 'lr': 0.3020289640158664, 'last_loss_coeff': 744.2349368719797}. Best is trial 4 with value: 0.00047855134471319616.\n",
      "Seed set to 0\n"
     ]
    },
    {
     "name": "stdout",
     "output_type": "stream",
     "text": [
      "Finished after 50 epochs\n"
     ]
    },
    {
     "name": "stderr",
     "output_type": "stream",
     "text": [
      "[I 2025-08-21 19:20:41,791] Trial 7 finished with value: 0.00440431572496891 and parameters: {'dis_loss_coeff_2': 0.002473252824567254, 'lr': 0.007013219779945793, 'last_loss_coeff': 48.21421028527759}. Best is trial 4 with value: 0.00047855134471319616.\n",
      "Seed set to 0\n"
     ]
    },
    {
     "name": "stdout",
     "output_type": "stream",
     "text": [
      "Finished after 50 epochs\n"
     ]
    },
    {
     "name": "stderr",
     "output_type": "stream",
     "text": [
      "[I 2025-08-21 19:20:59,328] Trial 8 finished with value: 0.00046771313645876944 and parameters: {'dis_loss_coeff_2': 8.834773237917967e-09, 'lr': 0.036281404040243805, 'last_loss_coeff': 0.007246356970270901}. Best is trial 8 with value: 0.00046771313645876944.\n",
      "Seed set to 0\n"
     ]
    },
    {
     "name": "stdout",
     "output_type": "stream",
     "text": [
      "Finished after 50 epochs\n"
     ]
    },
    {
     "name": "stderr",
     "output_type": "stream",
     "text": [
      "[I 2025-08-21 19:21:10,658] Trial 9 finished with value: 0.02390604093670845 and parameters: {'dis_loss_coeff_2': 0.03608704626577525, 'lr': 0.012229065947034361, 'last_loss_coeff': 0.30758959477348574}. Best is trial 8 with value: 0.00046771313645876944.\n",
      "Seed set to 0\n"
     ]
    },
    {
     "name": "stdout",
     "output_type": "stream",
     "text": [
      "Finished after 50 epochs\n",
      "Best hyperparameters: {'dis_loss_coeff_2': 8.834773237917967e-09, 'lr': 0.036281404040243805, 'last_loss_coeff': 0.007246356970270901}\n",
      "Fitting the model to the data using the composition: $(s_{--b}, s_{-+h})$\n"
     ]
    },
    {
     "data": {
      "application/vnd.jupyter.widget-view+json": {
       "model_id": "1355f72616284222a9ad3bb9de69631e",
       "version_major": 2,
       "version_minor": 0
      },
      "text/plain": [
       "Sanity Checking: |          | 0/? [00:00<?, ?it/s]"
      ]
     },
     "metadata": {},
     "output_type": "display_data"
    },
    {
     "data": {
      "application/vnd.jupyter.widget-view+json": {
       "model_id": "5c74b65e4baf41f78864e7ab8a110848",
       "version_major": 2,
       "version_minor": 0
      },
      "text/plain": [
       "Training: |          | 0/? [00:00<?, ?it/s]"
      ]
     },
     "metadata": {},
     "output_type": "display_data"
    },
    {
     "data": {
      "application/vnd.jupyter.widget-view+json": {
       "model_id": "628fe71f0f8a4e85ac7d3fd25dbf84ee",
       "version_major": 2,
       "version_minor": 0
      },
      "text/plain": [
       "Validation: |          | 0/? [00:00<?, ?it/s]"
      ]
     },
     "metadata": {},
     "output_type": "display_data"
    },
    {
     "data": {
      "application/vnd.jupyter.widget-view+json": {
       "model_id": "892ca481b7c54b4d95e584c04b938c51",
       "version_major": 2,
       "version_minor": 0
      },
      "text/plain": [
       "Validation: |          | 0/? [00:00<?, ?it/s]"
      ]
     },
     "metadata": {},
     "output_type": "display_data"
    },
    {
     "data": {
      "application/vnd.jupyter.widget-view+json": {
       "model_id": "4a508060be3b44a8b133188846bb5e19",
       "version_major": 2,
       "version_minor": 0
      },
      "text/plain": [
       "Validation: |          | 0/? [00:00<?, ?it/s]"
      ]
     },
     "metadata": {},
     "output_type": "display_data"
    },
    {
     "data": {
      "application/vnd.jupyter.widget-view+json": {
       "model_id": "2b202493bf8f456d9094f5bf309beecd",
       "version_major": 2,
       "version_minor": 0
      },
      "text/plain": [
       "Validation: |          | 0/? [00:00<?, ?it/s]"
      ]
     },
     "metadata": {},
     "output_type": "display_data"
    },
    {
     "data": {
      "application/vnd.jupyter.widget-view+json": {
       "model_id": "e1cc0c5a3ecc46aabe26e46e3a36152e",
       "version_major": 2,
       "version_minor": 0
      },
      "text/plain": [
       "Validation: |          | 0/? [00:00<?, ?it/s]"
      ]
     },
     "metadata": {},
     "output_type": "display_data"
    },
    {
     "data": {
      "application/vnd.jupyter.widget-view+json": {
       "model_id": "6d7f064cfaaa49a29be937de3bc40722",
       "version_major": 2,
       "version_minor": 0
      },
      "text/plain": [
       "Validation: |          | 0/? [00:00<?, ?it/s]"
      ]
     },
     "metadata": {},
     "output_type": "display_data"
    },
    {
     "data": {
      "application/vnd.jupyter.widget-view+json": {
       "model_id": "4f5ac74ea6774b5596a39f85e78e6590",
       "version_major": 2,
       "version_minor": 0
      },
      "text/plain": [
       "Validation: |          | 0/? [00:00<?, ?it/s]"
      ]
     },
     "metadata": {},
     "output_type": "display_data"
    },
    {
     "data": {
      "application/vnd.jupyter.widget-view+json": {
       "model_id": "a4cf0921a19442dabdfe97842fa28d48",
       "version_major": 2,
       "version_minor": 0
      },
      "text/plain": [
       "Validation: |          | 0/? [00:00<?, ?it/s]"
      ]
     },
     "metadata": {},
     "output_type": "display_data"
    },
    {
     "data": {
      "application/vnd.jupyter.widget-view+json": {
       "model_id": "fd84543384b249dc87ded4463e18b3e0",
       "version_major": 2,
       "version_minor": 0
      },
      "text/plain": [
       "Validation: |          | 0/? [00:00<?, ?it/s]"
      ]
     },
     "metadata": {},
     "output_type": "display_data"
    },
    {
     "data": {
      "application/vnd.jupyter.widget-view+json": {
       "model_id": "79d2c485e8d64c188d4d56986cc8bdf3",
       "version_major": 2,
       "version_minor": 0
      },
      "text/plain": [
       "Validation: |          | 0/? [00:00<?, ?it/s]"
      ]
     },
     "metadata": {},
     "output_type": "display_data"
    },
    {
     "data": {
      "application/vnd.jupyter.widget-view+json": {
       "model_id": "026027728f724b55b5cc66cdfd9e027b",
       "version_major": 2,
       "version_minor": 0
      },
      "text/plain": [
       "Validation: |          | 0/? [00:00<?, ?it/s]"
      ]
     },
     "metadata": {},
     "output_type": "display_data"
    },
    {
     "data": {
      "application/vnd.jupyter.widget-view+json": {
       "model_id": "e816244e60ef47878b643051c37881a7",
       "version_major": 2,
       "version_minor": 0
      },
      "text/plain": [
       "Validation: |          | 0/? [00:00<?, ?it/s]"
      ]
     },
     "metadata": {},
     "output_type": "display_data"
    },
    {
     "data": {
      "application/vnd.jupyter.widget-view+json": {
       "model_id": "a9f07650d59d4d41912810ca7168973c",
       "version_major": 2,
       "version_minor": 0
      },
      "text/plain": [
       "Validation: |          | 0/? [00:00<?, ?it/s]"
      ]
     },
     "metadata": {},
     "output_type": "display_data"
    },
    {
     "data": {
      "application/vnd.jupyter.widget-view+json": {
       "model_id": "4d71e247ed8e486784e467033ca69e9a",
       "version_major": 2,
       "version_minor": 0
      },
      "text/plain": [
       "Validation: |          | 0/? [00:00<?, ?it/s]"
      ]
     },
     "metadata": {},
     "output_type": "display_data"
    },
    {
     "data": {
      "application/vnd.jupyter.widget-view+json": {
       "model_id": "5fc82d52981e40ac96e2bcc783d8cccc",
       "version_major": 2,
       "version_minor": 0
      },
      "text/plain": [
       "Validation: |          | 0/? [00:00<?, ?it/s]"
      ]
     },
     "metadata": {},
     "output_type": "display_data"
    },
    {
     "data": {
      "application/vnd.jupyter.widget-view+json": {
       "model_id": "086d0c880bec437ea18d583f2f7e316a",
       "version_major": 2,
       "version_minor": 0
      },
      "text/plain": [
       "Validation: |          | 0/? [00:00<?, ?it/s]"
      ]
     },
     "metadata": {},
     "output_type": "display_data"
    },
    {
     "data": {
      "application/vnd.jupyter.widget-view+json": {
       "model_id": "3ab6895752a94f138b52420a973e6834",
       "version_major": 2,
       "version_minor": 0
      },
      "text/plain": [
       "Validation: |          | 0/? [00:00<?, ?it/s]"
      ]
     },
     "metadata": {},
     "output_type": "display_data"
    },
    {
     "data": {
      "application/vnd.jupyter.widget-view+json": {
       "model_id": "191ea46e0c884adb92ccdb9803df81b3",
       "version_major": 2,
       "version_minor": 0
      },
      "text/plain": [
       "Validation: |          | 0/? [00:00<?, ?it/s]"
      ]
     },
     "metadata": {},
     "output_type": "display_data"
    },
    {
     "data": {
      "application/vnd.jupyter.widget-view+json": {
       "model_id": "16db1b83431c4c5cab945d107fe17025",
       "version_major": 2,
       "version_minor": 0
      },
      "text/plain": [
       "Validation: |          | 0/? [00:00<?, ?it/s]"
      ]
     },
     "metadata": {},
     "output_type": "display_data"
    },
    {
     "data": {
      "application/vnd.jupyter.widget-view+json": {
       "model_id": "d05eac65feab45c48e0bc7980684f15f",
       "version_major": 2,
       "version_minor": 0
      },
      "text/plain": [
       "Validation: |          | 0/? [00:00<?, ?it/s]"
      ]
     },
     "metadata": {},
     "output_type": "display_data"
    },
    {
     "name": "stderr",
     "output_type": "stream",
     "text": [
      "Seed set to 0\n"
     ]
    },
    {
     "name": "stdout",
     "output_type": "stream",
     "text": [
      "Finished after 100 epochs\n",
      "Validation loss for $(s_{--b}, s_{-+h})$: 0.00046016284613870084\n",
      "Validation loss for composition $(s_{--b}, s_{-+h})$: 0.00046016284613870084\n",
      "All property maps fitted with validation loss 0.00046016284613870084 over 10 samples.\n"
     ]
    }
   ],
   "source": [
    "property_map.fit(V, T, Y0, composition_map=composition_map)"
   ]
  },
  {
   "cell_type": "code",
   "execution_count": 13,
   "id": "566e49d9",
   "metadata": {},
   "outputs": [],
   "source": [
    "T_to_plot = np.tile(np.linspace(t_range[0], 1, 100), (V.n_samples, 1))\n",
    "\n",
    "y_pred = episode.predict(V,T_to_plot)"
   ]
  },
  {
   "cell_type": "code",
   "execution_count": null,
   "id": "8061905d",
   "metadata": {},
   "outputs": [],
   "source": []
  },
  {
   "cell_type": "code",
   "execution_count": 19,
   "id": "55b3b9c7",
   "metadata": {},
   "outputs": [
    {
     "data": {
      "text/plain": [
       "[<matplotlib.lines.Line2D at 0x24fa871a8d0>]"
      ]
     },
     "execution_count": 19,
     "metadata": {},
     "output_type": "execute_result"
    },
    {
     "data": {
      "image/png": "[encoded data removed]",
      "text/plain": [
       "<Figure size 640x480 with 1 Axes>"
      ]
     },
     "metadata": {},
     "output_type": "display_data"
    }
   ],
   "source": [
    "index = 10\n",
    "\n",
    "plt.scatter(T[index], Y0[index], label='Ground Truth', color='blue')\n",
    "plt.plot(T_to_plot[index], y_pred[index], label='Predicted', color='red')"
   ]
  },
  {
   "cell_type": "code",
   "execution_count": 20,
   "id": "88f67c50",
   "metadata": {},
   "outputs": [],
   "source": [
    "sem_rep = episode.semantic_predictor.predict(V)"
   ]
  },
  {
   "cell_type": "code",
   "execution_count": 21,
   "id": "69c94636",
   "metadata": {},
   "outputs": [],
   "source": [
    "c = sem_rep.get_present_compositions()[0]"
   ]
  },
  {
   "cell_type": "code",
   "execution_count": 22,
   "id": "d6caa280",
   "metadata": {},
   "outputs": [
    {
     "data": {
      "image/png": "[encoded data removed]",
      "text/plain": [
       "<Figure size 1200x300 with 8 Axes>"
      ]
     },
     "metadata": {},
     "output_type": "display_data"
    }
   ],
   "source": [
    "episode.semantic_predictor.property_map.per_composition[c].transition_point_predictor[1,'t'].gam.visualize()"
   ]
  },
  {
   "cell_type": "code",
   "execution_count": 25,
   "id": "e2bfcf61",
   "metadata": {},
   "outputs": [
    {
     "data": {
      "image/png": "[encoded data removed]",
      "text/plain": [
       "<Figure size 1200x300 with 8 Axes>"
      ]
     },
     "metadata": {},
     "output_type": "display_data"
    }
   ],
   "source": [
    "episode.semantic_predictor.property_map.per_composition[c].infinite_motif_predictor[0].gams[1].visualize()"
   ]
  },
  {
   "cell_type": "code",
   "execution_count": 12,
   "id": "acbc0591",
   "metadata": {},
   "outputs": [
    {
     "data": {
      "text/plain": [
       "Parameter containing:\n",
       "tensor([[[-0.2596,  0.1183],\n",
       "         [ 0.2440,  1.1646],\n",
       "         [ 0.2886,  0.3866]],\n",
       "\n",
       "        [[-0.2011, -0.1179],\n",
       "         [ 0.1922, -0.7722],\n",
       "         [-1.9003,  0.1307]],\n",
       "\n",
       "        [[-0.7043,  0.3147],\n",
       "         [ 0.1574,  0.3854],\n",
       "         [ 0.9672, -0.9911]],\n",
       "\n",
       "        [[ 0.3016, -0.1073],\n",
       "         [ 1.0811,  0.1315],\n",
       "         [ 1.5736,  0.7814]],\n",
       "\n",
       "        [[ 0.9874, -1.4878],\n",
       "         [ 0.5867,  0.1583],\n",
       "         [ 0.6668, -0.9944]],\n",
       "\n",
       "        [[-1.1893, -1.1959],\n",
       "         [ 1.3119, -0.2098],\n",
       "         [ 0.7818,  0.9897]]], requires_grad=True)"
      ]
     },
     "execution_count": 12,
     "metadata": {},
     "output_type": "execute_result"
    }
   ],
   "source": [
    "episode.semantic_predictor.property_map.torch_models[c].property_module.final_motif_property_module.infinite_motif_properties_weights"
   ]
  },
  {
   "cell_type": "code",
   "execution_count": 13,
   "id": "79b2f8bd",
   "metadata": {},
   "outputs": [
    {
     "data": {
      "text/plain": [
       "array([[0.],\n",
       "       [0.],\n",
       "       [0.],\n",
       "       [0.],\n",
       "       [0.],\n",
       "       [0.],\n",
       "       [0.],\n",
       "       [0.],\n",
       "       [0.],\n",
       "       [0.],\n",
       "       [0.],\n",
       "       [0.],\n",
       "       [0.],\n",
       "       [0.],\n",
       "       [0.],\n",
       "       [0.],\n",
       "       [0.],\n",
       "       [0.],\n",
       "       [0.],\n",
       "       [0.],\n",
       "       [0.],\n",
       "       [0.],\n",
       "       [0.],\n",
       "       [0.],\n",
       "       [0.],\n",
       "       [0.],\n",
       "       [0.],\n",
       "       [0.],\n",
       "       [0.],\n",
       "       [0.],\n",
       "       [0.],\n",
       "       [0.],\n",
       "       [0.],\n",
       "       [0.],\n",
       "       [0.],\n",
       "       [0.],\n",
       "       [0.],\n",
       "       [0.],\n",
       "       [0.],\n",
       "       [0.],\n",
       "       [0.],\n",
       "       [0.],\n",
       "       [0.],\n",
       "       [0.],\n",
       "       [0.],\n",
       "       [0.],\n",
       "       [0.],\n",
       "       [0.],\n",
       "       [0.],\n",
       "       [0.]])"
      ]
     },
     "execution_count": 13,
     "metadata": {},
     "output_type": "execute_result"
    }
   ],
   "source": [
    "sem_rep.get_properties_by_composition(c)[0].second_derivative_end"
   ]
  },
  {
   "cell_type": "code",
   "execution_count": 14,
   "id": "3e476f55",
   "metadata": {},
   "outputs": [
    {
     "data": {
      "text/plain": [
       "array([[0.85478467, 0.78899788, 0.72321109, 0.65742427, 0.59163745,\n",
       "        0.52585061, 0.46006376, 0.3942769 , 0.32849002, 0.26270314],\n",
       "       [0.70791471, 0.64425706, 0.58059907, 0.51694074, 0.4532821 ,\n",
       "        0.38962314, 0.32596388, 0.26230431, 0.19864445, 0.13498431],\n",
       "       [0.61638939, 0.5717214 , 0.5270533 , 0.48238509, 0.43771678,\n",
       "        0.39304836, 0.34837985, 0.30371124, 0.25904253, 0.21437374],\n",
       "       [0.60661107, 0.54793469, 0.48925791, 0.43058073, 0.37190317,\n",
       "        0.31322524, 0.25454694, 0.19586829, 0.1371893 , 0.07850996],\n",
       "       [0.92530811, 0.84615599, 0.76700381, 0.68785155, 0.60869923,\n",
       "        0.52954685, 0.4503944 , 0.37124188, 0.29208931, 0.21293667],\n",
       "       [0.96510226, 0.87659879, 0.78809528, 0.69959174, 0.61108817,\n",
       "        0.52258456, 0.43408091, 0.34557723, 0.25707352, 0.16856978],\n",
       "       [0.84265429, 0.77216811, 0.70168191, 0.6311957 , 0.56070946,\n",
       "        0.49022321, 0.41973695, 0.34925066, 0.27876436, 0.20827805],\n",
       "       [0.89179862, 0.82384192, 0.75588522, 0.68792851, 0.6199718 ,\n",
       "        0.55201508, 0.48405835, 0.41610162, 0.34814489, 0.28018815],\n",
       "       [0.81744999, 0.7434924 , 0.66953408, 0.59557504, 0.52161528,\n",
       "        0.44765484, 0.37369372, 0.29973194, 0.22576952, 0.15180647],\n",
       "       [0.97402894, 0.88005953, 0.78609007, 0.69212057, 0.59815103,\n",
       "        0.50418146, 0.41021184, 0.31624219, 0.22227251, 0.12830279],\n",
       "       [0.92634141, 0.85056027, 0.77477912, 0.69899795, 0.62321677,\n",
       "        0.54743558, 0.47165437, 0.39587316, 0.32009194, 0.2443107 ],\n",
       "       [0.60109538, 0.5480477 , 0.4949848 , 0.44190702, 0.3888147 ,\n",
       "        0.33570816, 0.28258774, 0.22945377, 0.17630659, 0.12314652],\n",
       "       [0.94296169, 0.85442632, 0.76589092, 0.67735548, 0.58882002,\n",
       "        0.50028452, 0.41174899, 0.32321344, 0.23467785, 0.14614224],\n",
       "       [0.61343426, 0.56688629, 0.52033295, 0.47377433, 0.42721054,\n",
       "        0.38064167, 0.33406784, 0.28748915, 0.24090569, 0.19431758],\n",
       "       [0.89186215, 0.81483753, 0.7378129 , 0.66078825, 0.58376359,\n",
       "        0.50673892, 0.42971423, 0.35268954, 0.27566483, 0.19864011],\n",
       "       [0.67026228, 0.62000767, 0.569753  , 0.51949828, 0.46924351,\n",
       "        0.41898868, 0.36873381, 0.31847888, 0.2682239 , 0.21796887],\n",
       "       [0.94527155, 0.86045517, 0.77563877, 0.69082235, 0.60600593,\n",
       "        0.52118948, 0.43637303, 0.35155656, 0.26674008, 0.18192358],\n",
       "       [0.81658447, 0.75510208, 0.69361933, 0.63213623, 0.57065279,\n",
       "        0.50916901, 0.4476849 , 0.38620046, 0.32471571, 0.26323066],\n",
       "       [0.71988475, 0.658038  , 0.59619123, 0.53434443, 0.47249761,\n",
       "        0.41065077, 0.3488039 , 0.28695702, 0.22511011, 0.16326319],\n",
       "       [0.76907492, 0.6946241 , 0.620172  , 0.54571865, 0.47126409,\n",
       "        0.39680833, 0.32235141, 0.24789337, 0.17343422, 0.09897401],\n",
       "       [0.61132789, 0.56452612, 0.51772401, 0.47092154, 0.42411874,\n",
       "        0.3773156 , 0.33051213, 0.28370835, 0.23690425, 0.19009985],\n",
       "       [0.64971334, 0.60386828, 0.55802307, 0.51217773, 0.46633224,\n",
       "        0.42048661, 0.37464085, 0.32879496, 0.28294894, 0.23710279],\n",
       "       [0.86824977, 0.7964628 , 0.72467582, 0.65288884, 0.58110185,\n",
       "        0.50931485, 0.43752785, 0.36574084, 0.29395383, 0.22216682],\n",
       "       [0.85887581, 0.79516896, 0.73146209, 0.66775521, 0.60404831,\n",
       "        0.5403414 , 0.47663448, 0.41292754, 0.34922059, 0.28551363],\n",
       "       [0.84615403, 0.7757317 , 0.70530932, 0.6348869 , 0.56446442,\n",
       "        0.4940419 , 0.42361933, 0.35319672, 0.28277406, 0.21235136],\n",
       "       [0.75347102, 0.68899816, 0.6245252 , 0.56005213, 0.49557896,\n",
       "        0.43110568, 0.36663231, 0.30215884, 0.23768527, 0.17321162],\n",
       "       [0.99888396, 0.91839114, 0.8378983 , 0.75740546, 0.67691261,\n",
       "        0.59641976, 0.51592689, 0.43543402, 0.35494115, 0.27444827],\n",
       "       [0.99233413, 0.91748062, 0.842627  , 0.76777328, 0.69291945,\n",
       "        0.61806552, 0.54321148, 0.46835735, 0.39350312, 0.3186488 ],\n",
       "       [0.87421679, 0.80894129, 0.74366559, 0.67838971, 0.61311365,\n",
       "        0.5478374 , 0.48256099, 0.4172844 , 0.35200764, 0.28673072],\n",
       "       [0.86018372, 0.7882108 , 0.71623784, 0.64426484, 0.57229181,\n",
       "        0.50031873, 0.42834561, 0.35637245, 0.28439926, 0.21242603],\n",
       "       [0.87537867, 0.80841119, 0.74144371, 0.67447621, 0.60750871,\n",
       "        0.5405412 , 0.47357368, 0.40660615, 0.33963861, 0.27267106],\n",
       "       [0.75556856, 0.69316424, 0.63075989, 0.56835553, 0.50595115,\n",
       "        0.44354675, 0.38114233, 0.31873789, 0.25633344, 0.19392898],\n",
       "       [0.65403861, 0.60168409, 0.54932952, 0.4969749 , 0.44462024,\n",
       "        0.39226553, 0.33991077, 0.28755598, 0.23520113, 0.18284625],\n",
       "       [0.88859534, 0.82117081, 0.75374627, 0.68632172, 0.61889716,\n",
       "        0.55147258, 0.484048  , 0.41662341, 0.34919881, 0.2817742 ],\n",
       "       [0.81014174, 0.74024867, 0.67035554, 0.60046236, 0.53056913,\n",
       "        0.46067585, 0.39078253, 0.32088915, 0.25099573, 0.18110227],\n",
       "       [0.72409678, 0.66879022, 0.61348362, 0.55817698, 0.50287031,\n",
       "        0.44756359, 0.39225684, 0.33695006, 0.28164323, 0.22633638],\n",
       "       [0.79433417, 0.73123866, 0.66814313, 0.6050476 , 0.54195205,\n",
       "        0.4788565 , 0.41576095, 0.35266538, 0.28956981, 0.22647423],\n",
       "       [0.95579511, 0.88517669, 0.81455825, 0.7439398 , 0.67332133,\n",
       "        0.60270286, 0.53208437, 0.46146587, 0.39084735, 0.32022883],\n",
       "       [0.97361743, 0.88200809, 0.79039873, 0.69878934, 0.60717994,\n",
       "        0.51557051, 0.42396107, 0.33235161, 0.24074213, 0.14913264],\n",
       "       [0.74311811, 0.68546983, 0.62782151, 0.57017315, 0.51252475,\n",
       "        0.45487631, 0.39722783, 0.33957932, 0.28193077, 0.22428219],\n",
       "       [0.82861191, 0.76610393, 0.70359594, 0.64108794, 0.57857992,\n",
       "        0.51607189, 0.45356384, 0.39105578, 0.32854771, 0.26603963],\n",
       "       [0.72874779, 0.67543537, 0.62212292, 0.56881044, 0.51549794,\n",
       "        0.46218541, 0.40887284, 0.35556025, 0.30224764, 0.248935  ],\n",
       "       [0.83772004, 0.75312561, 0.66853114, 0.58393664, 0.4993421 ,\n",
       "        0.41474753, 0.33015292, 0.24555828, 0.16096361, 0.07636891],\n",
       "       [0.73516446, 0.67975197, 0.6243392 , 0.56892617, 0.51351288,\n",
       "        0.45809935, 0.40268556, 0.34727154, 0.29185728, 0.23644279],\n",
       "       [0.75664759, 0.70045276, 0.64425789, 0.58806297, 0.53186802,\n",
       "        0.47567302, 0.41947798, 0.3632829 , 0.30708778, 0.25089262],\n",
       "       [0.95610976, 0.88550808, 0.81490639, 0.74430469, 0.67370298,\n",
       "        0.60310127, 0.53249954, 0.46189781, 0.39129606, 0.32069431],\n",
       "       [0.69086301, 0.62821736, 0.56556841, 0.50291623, 0.44026091,\n",
       "        0.3776025 , 0.3149411 , 0.25227677, 0.18960959, 0.12693963],\n",
       "       [0.84927487, 0.78571572, 0.72215656, 0.65859739, 0.59503821,\n",
       "        0.53147902, 0.46791982, 0.40436061, 0.34080139, 0.27724217],\n",
       "       [0.63360614, 0.58871537, 0.54382441, 0.49893327, 0.45404193,\n",
       "        0.40915042, 0.36425872, 0.31936685, 0.27447481, 0.22958261],\n",
       "       [0.93305767, 0.86230264, 0.79154761, 0.72079258, 0.65003753,\n",
       "        0.57928248, 0.50852742, 0.43777235, 0.36701728, 0.29626219]])"
      ]
     },
     "execution_count": 14,
     "metadata": {},
     "output_type": "execute_result"
    }
   ],
   "source": [
    "y_pred"
   ]
  },
  {
   "cell_type": "code",
   "execution_count": 15,
   "id": "b3b2e90b",
   "metadata": {},
   "outputs": [
    {
     "name": "stdout",
     "output_type": "stream",
     "text": [
      "$(s_{--b}, s_{-+h})$\n",
      "$(s_{--b}, s_{-+h})$\n",
      "$(s_{--b}, s_{-+h})$\n",
      "$(s_{--b}, s_{-+h})$\n",
      "$(s_{--b}, s_{-+h})$\n",
      "$(s_{--b}, s_{-+h})$\n",
      "$(s_{--b}, s_{-+h})$\n",
      "$(s_{--b}, s_{-+h})$\n",
      "$(s_{--b}, s_{-+h})$\n",
      "$(s_{--b}, s_{-+h})$\n",
      "$(s_{--b}, s_{-+h})$\n",
      "$(s_{--b}, s_{-+h})$\n",
      "$(s_{--b}, s_{-+h})$\n",
      "$(s_{--b}, s_{-+h})$\n",
      "$(s_{--b}, s_{-+h})$\n",
      "$(s_{--b}, s_{-+h})$\n",
      "$(s_{--b}, s_{-+h})$\n",
      "$(s_{--b}, s_{-+h})$\n",
      "$(s_{--b}, s_{-+h})$\n",
      "$(s_{--b}, s_{-+h})$\n",
      "$(s_{--b}, s_{-+h})$\n",
      "$(s_{--b}, s_{-+h})$\n",
      "$(s_{--b}, s_{-+h})$\n",
      "$(s_{--b}, s_{-+h})$\n",
      "$(s_{--b}, s_{-+h})$\n",
      "$(s_{--b}, s_{-+h})$\n",
      "$(s_{--b}, s_{-+h})$\n",
      "$(s_{--b}, s_{-+h})$\n",
      "$(s_{--b}, s_{-+h})$\n",
      "$(s_{--b}, s_{-+h})$\n",
      "$(s_{--b}, s_{-+h})$\n",
      "$(s_{--b}, s_{-+h})$\n",
      "$(s_{--b}, s_{-+h})$\n",
      "$(s_{--b}, s_{-+h})$\n",
      "$(s_{--b}, s_{-+h})$\n",
      "$(s_{--b}, s_{-+h})$\n",
      "$(s_{--b}, s_{-+h})$\n",
      "$(s_{--b}, s_{-+h})$\n",
      "$(s_{--b}, s_{-+h})$\n",
      "$(s_{--b}, s_{-+h})$\n",
      "$(s_{--b}, s_{-+h})$\n",
      "$(s_{--b}, s_{-+h})$\n",
      "$(s_{--b}, s_{-+h})$\n",
      "$(s_{--b}, s_{-+h})$\n",
      "$(s_{--b}, s_{-+h})$\n",
      "$(s_{--b}, s_{-+h})$\n",
      "$(s_{--b}, s_{-+h})$\n",
      "$(s_{--b}, s_{-+h})$\n",
      "$(s_{--b}, s_{-+h})$\n",
      "$(s_{--b}, s_{-+h})$\n"
     ]
    }
   ],
   "source": [
    "for c in composition_map.predict(V):\n",
    "    print(str(c))"
   ]
  },
  {
   "cell_type": "code",
   "execution_count": null,
   "id": "51a87490",
   "metadata": {},
   "outputs": [],
   "source": []
  }
 ],
 "metadata": {
  "kernelspec": {
   "display_name": "EPISODEpy",
   "language": "python",
   "name": "python3"
  },
  "language_info": {
   "codemirror_mode": {
    "name": "ipython",
    "version": 3
   },
   "file_extension": ".py",
   "mimetype": "text/x-python",
   "name": "python",
   "nbconvert_exporter": "python",
   "pygments_lexer": "ipython3",
   "version": "3.12.2"
  }
 },
 "nbformat": 4,
 "nbformat_minor": 5
}
